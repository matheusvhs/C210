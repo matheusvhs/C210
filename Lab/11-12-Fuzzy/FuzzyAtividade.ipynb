{
 "cells": [
  {
   "cell_type": "markdown",
   "metadata": {},
   "source": [
    "## Projeto - Fuzzy\n",
    "\n",
    "#### Nome:         Turma:            Matrícula:\n",
    "#### Nome:         Turma:            Matrícula:"
   ]
  },
  {
   "cell_type": "code",
   "execution_count": 1,
   "metadata": {},
   "outputs": [],
   "source": [
    "import numpy as np\n",
    "import skfuzzy as fuzzy\n",
    "import skfuzzy.control as control"
   ]
  },
  {
   "cell_type": "markdown",
   "metadata": {},
   "source": [
    "#### Criando antescedente (entrada/input)"
   ]
  },
  {
   "cell_type": "code",
   "execution_count": 2,
   "metadata": {},
   "outputs": [
    {
     "name": "stderr",
     "output_type": "stream",
     "text": [
      "c:\\Users\\pedro\\AppData\\Local\\Programs\\Python\\Python311\\Lib\\site-packages\\skfuzzy\\control\\fuzzyvariable.py:122: UserWarning: Matplotlib is currently using module://matplotlib_inline.backend_inline, which is a non-GUI backend, so cannot show the figure.\n",
      "  fig.show()\n"
     ]
    },
    {
     "data": {
      "image/png": "[encoded data removed]",
      "text/plain": [
       "<Figure size 640x480 with 1 Axes>"
      ]
     },
     "metadata": {},
     "output_type": "display_data"
    }
   ],
   "source": [
    "# Definindo universo de discurso e nome da variável\n",
    "universo_massa = np.arange(0, 2.41, 0.01)\n",
    "\n",
    "massa = control.Antecedent(universe = universo_massa, label = \"massa\")\n",
    "\n",
    "# Criando função de pertinência triangular -> trimf, trapezoidal -> trapmf\n",
    "massa[\"mp\"] = fuzzy.trimf(massa.universe, [0, 0, 0.55])\n",
    "massa[\"pedro\"] = fuzzy.trimf(massa.universe, [0.5, 1, 1.5])\n",
    "\n",
    "\n",
    "massa.view()"
   ]
  },
  {
   "cell_type": "code",
   "execution_count": 3,
   "metadata": {},
   "outputs": [],
   "source": [
    "# Definindo universo de discurso e nome da variável\n",
    "universo_velocidade = np.arange(0, 181)\n"
   ]
  },
  {
   "cell_type": "markdown",
   "metadata": {},
   "source": [
    "#### Criando consequent (saída/output)"
   ]
  },
  {
   "cell_type": "code",
   "execution_count": 4,
   "metadata": {},
   "outputs": [],
   "source": [
    "# Universo da pressao\n",
    "universo_pressao = np.arange(0, 1.001, 0.001)\n"
   ]
  },
  {
   "cell_type": "markdown",
   "metadata": {},
   "source": [
    "#### Criando regras"
   ]
  },
  {
   "cell_type": "code",
   "execution_count": 5,
   "metadata": {},
   "outputs": [
    {
     "ename": "NameError",
     "evalue": "name 'velocidade' is not defined",
     "output_type": "error",
     "traceback": [
      "\u001b[1;31m---------------------------------------------------------------------------\u001b[0m",
      "\u001b[1;31mNameError\u001b[0m                                 Traceback (most recent call last)",
      "Cell \u001b[1;32mIn[5], line 3\u001b[0m\n\u001b[0;32m      1\u001b[0m \u001b[38;5;66;03m# REGRA -> expressão X, resultado Y\u001b[39;00m\n\u001b[1;32m----> 3\u001b[0m regra1 \u001b[38;5;241m=\u001b[39m control\u001b[38;5;241m.\u001b[39mRule((\u001b[43mvelocidade\u001b[49m[\u001b[38;5;124m\"\u001b[39m\u001b[38;5;124mmb\u001b[39m\u001b[38;5;124m\"\u001b[39m] \u001b[38;5;241m&\u001b[39m massa[\u001b[38;5;124m\"\u001b[39m\u001b[38;5;124mmp\u001b[39m\u001b[38;5;124m\"\u001b[39m]) \u001b[38;5;241m|\u001b[39m\n\u001b[0;32m      4\u001b[0m                       (velocidade[\u001b[38;5;124m\"\u001b[39m\u001b[38;5;124mmb\u001b[39m\u001b[38;5;124m\"\u001b[39m] \u001b[38;5;241m&\u001b[39m massa[\u001b[38;5;124m\"\u001b[39m\u001b[38;5;124mpe\u001b[39m\u001b[38;5;124m\"\u001b[39m]) \u001b[38;5;241m|\u001b[39m\n\u001b[0;32m      5\u001b[0m                       (velocidade[\u001b[38;5;124m\"\u001b[39m\u001b[38;5;124mmb\u001b[39m\u001b[38;5;124m\"\u001b[39m] \u001b[38;5;241m&\u001b[39m massa[\u001b[38;5;124m\"\u001b[39m\u001b[38;5;124mme\u001b[39m\u001b[38;5;124m\"\u001b[39m]), pressao[\u001b[38;5;124m\"\u001b[39m\u001b[38;5;124mmi\u001b[39m\u001b[38;5;124m\"\u001b[39m])\n",
      "\u001b[1;31mNameError\u001b[0m: name 'velocidade' is not defined"
     ]
    }
   ],
   "source": [
    "# REGRA -> expressão X, resultado Y\n",
    "\n",
    "regra1 = control.Rule((velocidade[\"mb\"] & massa[\"mp\"]) |\n",
    "                      (velocidade[\"mb\"] & massa[\"pe\"]) |\n",
    "                      (velocidade[\"mb\"] & massa[\"me\"]), pressao[\"mi\"])"
   ]
  },
  {
   "cell_type": "markdown",
   "metadata": {},
   "source": [
    "#### Criando sistema"
   ]
  },
  {
   "cell_type": "code",
   "execution_count": null,
   "metadata": {},
   "outputs": [],
   "source": [
    "# Adicionando regras ao controle\n",
    "\n",
    "# Criando sistema com o controle de gorjeta"
   ]
  },
  {
   "cell_type": "code",
   "execution_count": null,
   "metadata": {},
   "outputs": [],
   "source": [
    "sistema.input[\"velocidade\"] = 155\n",
    "sistema.input[\"massa\"] = 1.5\n",
    "\n",
    "# Executando o sistema\n"
   ]
  },
  {
   "cell_type": "code",
   "execution_count": null,
   "metadata": {},
   "outputs": [],
   "source": []
  }
 ],
 "metadata": {
  "interpreter": {
   "hash": "8938787fc786eef172ef16cfc82576161dcc5f27948e2dc8ed7d154938db102b"
  },
  "kernelspec": {
   "display_name": "Python 3",
   "language": "python",
   "name": "python3"
  },
  "language_info": {
   "codemirror_mode": {
    "name": "ipython",
    "version": 3
   },
   "file_extension": ".py",
   "mimetype": "text/x-python",
   "name": "python",
   "nbconvert_exporter": "python",
   "pygments_lexer": "ipython3",
   "version": "3.11.4"
  }
 },
 "nbformat": 4,
 "nbformat_minor": 2
}
