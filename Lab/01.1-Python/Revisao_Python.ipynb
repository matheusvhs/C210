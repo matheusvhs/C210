{
 "cells": [
  {
   "cell_type": "markdown",
   "id": "0d77ae2c",
   "metadata": {},
   "source": [
    "# Introdução ao Python\n",
    "\n",
    "\n"
   ]
  },
  {
   "cell_type": "markdown",
   "id": "72833c0f",
   "metadata": {},
   "source": [
    "## Declaração de variáveis\n",
    "\n",
    "Para declarar variáveis em python utilizamos da sintáxe: \n",
    "\n",
    "nome = valor\n",
    "\n",
    "Como por exemplo:\n"
   ]
  },
  {
   "cell_type": "code",
   "execution_count": 4,
   "id": "ce104ef9",
   "metadata": {},
   "outputs": [],
   "source": [
    "# inteiros:\n",
    "idade = 35\n",
    "\n",
    "# pontos flutuantes:\n",
    "altura = 1.82\n",
    "\n",
    "# strings:\n",
    "nome = \"Rodrigo\"\n",
    "\n",
    "# booleanos:\n",
    "brasileiro = True"
   ]
  },
  {
   "cell_type": "markdown",
   "id": "b876289f",
   "metadata": {},
   "source": [
    "## Funções úteis\n",
    "\n",
    "Dentre algumas funções, podemos destacar:\n",
    "```python\n",
    "input(\"mensagem opcional de entrada\") # lê do stdin\n",
    "print(valor) # escreve no stdout\n",
    "int(minha_string) # transforma a string em inteiro\n",
    "float(minha_string) # transforma a string em ponto flutuante```\n"
   ]
  },
  {
   "cell_type": "code",
   "execution_count": 15,
   "id": "2cc89760",
   "metadata": {},
   "outputs": [
    {
     "name": "stdout",
     "output_type": "stream",
     "text": [
      "35\n",
      "1.82\n",
      "Rodrigo\n",
      "True\n",
      "Olá Felipe\n",
      "Sua idade é 21\n"
     ]
    }
   ],
   "source": [
    "# Printando valores:\n",
    "print(idade)\n",
    "print(altura)\n",
    "print(nome)\n",
    "print(brasileiro)\n",
    "\n",
    "# Lendo valores:\n",
    "meu_nome = input(\"Entre com seu nome:\")\n",
    "\n",
    "# '+' concatena duas strings:\n",
    "print(\"Olá \" +  meu_nome)\n",
    "\n",
    "\n",
    "# Podemos usar 'aspas simples' ou \"aspas duplas\" para strings:\n",
    "minha_idade = int(input('Entre com sua idade:'))\n",
    "\n",
    "# Também podemos usar o próprio print para concatenar:\n",
    "print('Sua idade é', minha_idade)"
   ]
  },
  {
   "cell_type": "markdown",
   "id": "fdc4f75c",
   "metadata": {},
   "source": [
    "## Operadores aritméticos:\n",
    "\n",
    "O Python oferece vários operadores que estamos familiarizados, tais como:\n",
    "```python\n",
    "soma = x + y\n",
    "subtracao = x - y\n",
    "multiplicacao = x * y\n",
    "divisao = x / y\n",
    "divisao_truncada = x // y # arredonda para baixo\n",
    "exponenciacao = x ** y # x elevado a y\n",
    "resto_divisao = x % y```"
   ]
  },
  {
   "cell_type": "code",
   "execution_count": 3,
   "id": "80f1e547",
   "metadata": {},
   "outputs": [
    {
     "name": "stdout",
     "output_type": "stream",
     "text": [
      "Entre com x: 4\n",
      "Entre com y: 5\n",
      "\n",
      "Soma: 9.0\n",
      "Subtração: -1.0\n",
      "Multiplicação: 20.0\n",
      "Divisão: 0.8\n",
      "Divisão Truncada: 0.0\n",
      "Exponenciação: 1024.0\n",
      "Resto da Divisão: 4.0\n"
     ]
    }
   ],
   "source": [
    "x = float(input(\"Entre com x: \"))\n",
    "y = float(input(\"Entre com y: \"))\n",
    "\n",
    "soma = x + y\n",
    "subtracao = x - y\n",
    "multiplicacao = x * y\n",
    "divisao = x / y\n",
    "divisao_truncada = x // y \n",
    "exponenciacao = x ** y\n",
    "resto_divisao = x % y\n",
    "\n",
    "print()\n",
    "\n",
    "print(\"Soma:\", soma)\n",
    "print(\"Subtração:\", subtracao)\n",
    "print(\"Multiplicação:\", multiplicacao)\n",
    "print(\"Divisão:\", divisao)\n",
    "print(\"Divisão Truncada:\", divisao_truncada)\n",
    "print(\"Exponenciação:\", exponenciacao)\n",
    "print(\"Resto da Divisão:\", resto_divisao)"
   ]
  },
  {
   "cell_type": "markdown",
   "id": "72fad021",
   "metadata": {},
   "source": [
    "## Estruturas de decisão e operadores de comparação e lógicos\n",
    "\n",
    "Estruturas de decisão são recursos da linguagem que permitem ao programador fazer determinadas ações de acordo com um predicado. Elas têm a seguinte sintaxe:\n",
    "```python\n",
    "if (condicao1):\n",
    "    comandos\n",
    "elif condicao2:\n",
    "    comandos\n",
    "elif condicao3:\n",
    "    comandos\n",
    "else:\n",
    "    comandos```\n",
    "    \n",
    "As condições devem ser coercíveis para `bool` para poderem ser executadas.\n",
    "\n",
    "**Atenção! No Python, é necessário que os blocos estejam propriamente indentados, ou o interpretador irá lançar um erro.**"
   ]
  },
  {
   "cell_type": "code",
   "execution_count": 4,
   "id": "da319810",
   "metadata": {},
   "outputs": [
    {
     "name": "stdout",
     "output_type": "stream",
     "text": [
      "Verdadeiro\n"
     ]
    }
   ],
   "source": [
    "if True:\n",
    "    print(\"Verdadeiro\")\n",
    "else:\n",
    "    print(\"Absurdo\")"
   ]
  },
  {
   "cell_type": "markdown",
   "id": "b1409610",
   "metadata": {},
   "source": [
    "### Operadores de comparação\n",
    "\n",
    "Os operadores de comparação permitem verificar igualdades e desigualdades entre valores, sendo possível verificar se tal condição é verdadeira ou falsa. Dentre eles temos:\n",
    "```python\n",
    "igual = x == y\n",
    "diferente = x != y\n",
    "menor = x < y\n",
    "maior = x > y\n",
    "menor_igual = x <= y\n",
    "maior_igual = x >= y```"
   ]
  },
  {
   "cell_type": "markdown",
   "id": "2aaadfe7",
   "metadata": {},
   "source": [
    "### Operadores lógicos\n",
    "\n",
    "Os operadores lógicos são operadores que recebem `bools` como argumento e retornam um `bool`. Dentre eles podem destacar:\n",
    "```python\n",
    "e_logico = x and y\n",
    "ou_logico = x or y\n",
    "nao_logico = not x```\n",
    "\n",
    "Abaixo temos alguns exemplos de suas utilizações:"
   ]
  },
  {
   "cell_type": "code",
   "execution_count": 7,
   "id": "5c7e1dcc",
   "metadata": {},
   "outputs": [
    {
     "name": "stdout",
     "output_type": "stream",
     "text": [
      "Ambos os números são negativos\n"
     ]
    }
   ],
   "source": [
    "x = float(input(\"Entre com um valor: \"))\n",
    "y = float(input(\"Entre com outro valor: \"))\n",
    "\n",
    "if x > y:\n",
    "    print(x, \">\", y)\n",
    "elif x == 10 or y == 10:\n",
    "    print(\"Algum valor é igual a 10\")\n",
    "elif x < 0 and y < 0:\n",
    "    print(\"Ambos os números são negativos\")\n",
    "else:\n",
    "    print(\"Nenhum bloco acima foi executado\")"
   ]
  },
  {
   "cell_type": "markdown",
   "id": "61b88e8d",
   "metadata": {},
   "source": [
    "Em Python nós podemos também aninhar operadores de comparação:"
   ]
  },
  {
   "cell_type": "code",
   "execution_count": 8,
   "id": "d8ee1f77",
   "metadata": {},
   "outputs": [
    {
     "name": "stdout",
     "output_type": "stream",
     "text": [
      "Entre com um valor:50\n",
      "50.0 é maior que 10 ou menor que -100\n"
     ]
    }
   ],
   "source": [
    "x = float(input(\"Entre com um valor:\"))\n",
    "\n",
    "if 0 < x <= 10:\n",
    "    print(x, \"é maior que 0 e menor ou igual a 10\")\n",
    "elif -100 <= x <= 0:\n",
    "    print(x, \"está entre -100 e 0\")\n",
    "else:\n",
    "    print(x, \"é maior que 10 ou menor que -100\")"
   ]
  },
  {
   "cell_type": "markdown",
   "id": "105681ab",
   "metadata": {},
   "source": [
    "## Listas\n",
    "\n",
    "No Python, podemos criar listas heterogêneas (isto é, listas podem conter qualquer tipo de variável). Por exemplo:"
   ]
  },
  {
   "cell_type": "code",
   "execution_count": 9,
   "id": "16be1563",
   "metadata": {},
   "outputs": [
    {
     "name": "stdout",
     "output_type": "stream",
     "text": [
      "['Batata', 100, True]\n"
     ]
    }
   ],
   "source": [
    "lista1 = [\"Batata\", 100, True]\n",
    "print(lista1)"
   ]
  },
  {
   "cell_type": "markdown",
   "id": "beda9fc6",
   "metadata": {},
   "source": [
    "| Tipo               | Mutável? | Indexável? | Pode conter tipos diferentes? | Usado para quê?                                | Exemplo                          |\n",
    "|--------------------|----------|------------|-------------------------------|------------------------------------------------|----------------------------------|\n",
    "| **Lista** (`list`) |  Sim   |   Sim     |  Sim                        | Estrutura genérica para armazenar dados        | `[1, 2, 'a', 3.0]`               |\n",
    "| **Tupla** (`tuple`)|  Não   |   Sim     |  Sim                        | Dados fixos e imutáveis                        | `(1, 2, 'b')`                    |\n",
    "| **Vetor** (conceito)| —        | —          | —                             | Termo genérico — pode ser uma lista ou array 1D| `[1, 2, 3]` ou `np.array([1,2,3])`|\n",
    "| **Array** (`numpy.array`) |  Sim |  Sim |  Não (tipo fixo)            | Computação científica, álgebra linear          | `np.array([[1, 2], [3, 4]])`     |\n"
   ]
  },
  {
   "cell_type": "markdown",
   "id": "fbc523a5",
   "metadata": {},
   "source": [
    "### Métodos e funções úteis para listas\n",
    "\n",
    "Para manipular listas, podemos destacar algumas funções e métodos úteis:"
   ]
  },
  {
   "cell_type": "code",
   "execution_count": 12,
   "id": "e0bcf586",
   "metadata": {},
   "outputs": [
    {
     "name": "stdout",
     "output_type": "stream",
     "text": [
      "Tamanho da lista: 4\n",
      "Lista com o novo elemento adicionado: [42, 'Python', False, 3.14159, ['Batata', 100, True], 1.88]\n",
      "Elemento na posição 0: 42\n",
      "Último elemento: 1.88\n",
      "Penúltimo elemento: ['Batata', 100, True]\n",
      "Elemento na posição 2 e 3: [False, 3.14159]\n",
      "Lista invertida: [1.88, ['Batata', 100, True], 3.14159, False, 'Python', 42]\n",
      "Lista ordenada crescente: ['a', 'b', 'c']\n",
      "Lista ordenada decrescente: ['c', 'b', 'a']\n"
     ]
    }
   ],
   "source": [
    "lista2 = [42, \"Python\", 3.14159, lista1]\n",
    "\n",
    "# Tamanho de uma lista:\n",
    "print(\"Tamanho da lista:\", len(lista2))\n",
    "\n",
    "# Adicionar um novo elemento:\n",
    "lista2.append(1.88)\n",
    "lista2.insert(2,False)\n",
    "print(\"Lista com o novo elemento adicionado:\", lista2)\n",
    "\n",
    "# Acessando valores individuais:\n",
    "print(\"Elemento na posição 0:\", lista2[0]) # Pega o elemento na posição 0.\n",
    "print(\"Último elemento:\", lista2[-1]) # Pega o último elemento.\n",
    "print(\"Penúltimo elemento:\", lista2[-2]) # Pega o penúltimo elemento.\n",
    "print(\"Elemento na posição 2 e 3:\", lista2[2:4]) # Pega os elementos 2 e 3. Obs.: Primeiro valor incluso e último excluso.\n",
    "\n",
    "# Reverter lista:\n",
    "lista2.reverse()\n",
    "print(\"Lista invertida:\", lista2)\n",
    "\n",
    "# Ordenação (para listas homogêneas):\n",
    "lista3 = ['b', 'a', 'c']\n",
    "\n",
    "lista3.sort()\n",
    "print(\"Lista ordenada crescente:\", lista3)\n",
    "\n",
    "lista3.sort(reverse=True)\n",
    "print(\"Lista ordenada decrescente:\", lista3)"
   ]
  },
  {
   "cell_type": "markdown",
   "id": "b511449b",
   "metadata": {},
   "source": [
    "## Estruturas de repetição\n",
    "\n",
    "No Python, temos acesso a duas estruturas de repetição: `while` e `for`.\n",
    "\n",
    "### while\n",
    "\n",
    "Executa comandos dentro do bloco `while` enquanto a condição é verdadeira:"
   ]
  },
  {
   "cell_type": "code",
   "execution_count": 13,
   "id": "9ad6fd98",
   "metadata": {},
   "outputs": [
    {
     "name": "stdout",
     "output_type": "stream",
     "text": [
      "x = 512\n",
      "x = 256\n",
      "x = 128\n",
      "x = 64\n",
      "x = 32\n",
      "x = 16\n",
      "x = 8\n",
      "x = 4\n",
      "x = 2\n",
      "x = 1\n"
     ]
    }
   ],
   "source": [
    "x = 512\n",
    "\n",
    "while x > 0:\n",
    "    print(\"x =\", x)\n",
    "    x //= 2 # o mesmo que x = x // 2"
   ]
  },
  {
   "cell_type": "markdown",
   "id": "a173e765",
   "metadata": {},
   "source": [
    "### for\n",
    "\n",
    "Adicionamente, temos o `for`, que permite iterar por valores dentro de uma estrutura:"
   ]
  },
  {
   "cell_type": "code",
   "execution_count": 14,
   "id": "93eacb57",
   "metadata": {},
   "outputs": [
    {
     "name": "stdout",
     "output_type": "stream",
     "text": [
      "42\n",
      "Python\n",
      "3.14159\n"
     ]
    }
   ],
   "source": [
    "lista2 = [42, \"Python\", 3.14159]\n",
    "\n",
    "for valor in lista2:\n",
    "    print(valor)"
   ]
  },
  {
   "cell_type": "code",
   "execution_count": 15,
   "id": "9162f905",
   "metadata": {},
   "outputs": [
    {
     "name": "stdout",
     "output_type": "stream",
     "text": [
      "[0, 5):\n",
      "0\n",
      "1\n",
      "2\n",
      "3\n",
      "4\n",
      "\n",
      "[2, 8):\n",
      "2\n",
      "3\n",
      "4\n",
      "5\n",
      "6\n",
      "7\n",
      "\n",
      "[4, 9) com passo 2:\n",
      "4\n",
      "6\n",
      "8\n"
     ]
    }
   ],
   "source": [
    "print(\"[0, 5):\")\n",
    "for i in range(5):\n",
    "    print(i)\n",
    "\n",
    "print()\n",
    "    \n",
    "print(\"[2, 8):\")\n",
    "for j in range(2, 8):\n",
    "    print(j)\n",
    "    \n",
    "print()\n",
    "    \n",
    "print(\"[4, 9) com passo 2:\")\n",
    "for k in range(4, 9, 2):\n",
    "    print(k)"
   ]
  },
  {
   "cell_type": "markdown",
   "id": "a88c26ae",
   "metadata": {},
   "source": [
    "## Tuplas\n",
    "\n",
    "Tuplas funcionam como listas heterogêneas de tamanho fixo e imutáveis."
   ]
  },
  {
   "cell_type": "code",
   "execution_count": 16,
   "id": "68b879a4",
   "metadata": {},
   "outputs": [
    {
     "name": "stdout",
     "output_type": "stream",
     "text": [
      "Louis XIV\n",
      "Aristóteles Grécia\n"
     ]
    }
   ],
   "source": [
    "louis = (\"Louis XIV\", \"França\")\n",
    "beethoven = (\"Beethoven\", \"Alemanha\")\n",
    "aristoteles = (\"Aristóteles\", \"Grécia\")\n",
    "\n",
    "# Acessando valores:\n",
    "print(louis[0])\n",
    "\n",
    "# Desconstrução de tuplas:\n",
    "(nome1, pais1) = aristoteles\n",
    "print(nome1, pais1)"
   ]
  },
  {
   "cell_type": "markdown",
   "id": "1b887438",
   "metadata": {},
   "source": [
    "## Funções\n",
    "\n",
    "Funções fornecem uma forma de reutilizar código e deixar ele mais organizado. A sintaxe é como abaixo:\n",
    "```python\n",
    "def nome_funcao(argumento1, argumento2, argumento3=opcional1, argumento4=opcional2):\n",
    "    corpo_funcao\n",
    "    return valor # obs.: return não é obrigatório```\n",
    "\n",
    "Abaixo temos exemplos de funções:"
   ]
  },
  {
   "cell_type": "code",
   "execution_count": 17,
   "id": "a0f2b2aa",
   "metadata": {},
   "outputs": [
    {
     "name": "stdout",
     "output_type": "stream",
     "text": [
      "4\n",
      "8\n"
     ]
    }
   ],
   "source": [
    "# Função com retorno:\n",
    "def soma(x, y=5):\n",
    "    z = x + y\n",
    "    return z\n",
    "\n",
    "print(soma(1, 3))\n",
    "print(soma(3))"
   ]
  },
  {
   "cell_type": "code",
   "execution_count": 18,
   "id": "9b154869",
   "metadata": {},
   "outputs": [
    {
     "name": "stdout",
     "output_type": "stream",
     "text": [
      "0 é par\n",
      "1 é ímpar\n",
      "2 é par\n",
      "3 é ímpar\n",
      "4 é par\n",
      "5 é ímpar\n",
      "6 é par\n",
      "7 é ímpar\n",
      "8 é par\n",
      "9 é ímpar\n"
     ]
    }
   ],
   "source": [
    "# Função sem retorno:\n",
    "def mostra_paridade(valores):\n",
    "    for valor in valores:\n",
    "        if valor % 2 == 0:\n",
    "            print(valor, \"é par\")\n",
    "        else:\n",
    "            print(valor, \"é ímpar\")\n",
    "            \n",
    "mostra_paridade(range(0, 10))"
   ]
  },
  {
   "cell_type": "markdown",
   "id": "e816a9d3",
   "metadata": {},
   "source": [
    "## Arrays do NumPy\n",
    "Embora as listas do Python sejam úteis para o desenvolvimento no dia-a-dia, daremos preferência aos arrays do NumPy, por serem mais eficientes e oferecerem mais operações úteis relacionadas à manipulação de vetores e matrizes algébricas.\n",
    "\n",
    "O primeiro passo é importar o NumPy:"
   ]
  },
  {
   "cell_type": "code",
   "execution_count": 19,
   "id": "5fad1092",
   "metadata": {},
   "outputs": [],
   "source": [
    "import numpy as np\n",
    "# obs.: também poderíamos importar tudo do módulo:\n",
    "# from numpy import *\n",
    "# caso não tiver instalado utilizar o comando !pip install numpy"
   ]
  },
  {
   "cell_type": "markdown",
   "id": "eb0544a1",
   "metadata": {},
   "source": [
    "### Vetores"
   ]
  },
  {
   "cell_type": "code",
   "execution_count": 20,
   "id": "fb385a28",
   "metadata": {},
   "outputs": [
    {
     "name": "stdout",
     "output_type": "stream",
     "text": [
      "Vetor: [ 2  3  5  7 11] \n",
      "Dimensão: (5,)\n"
     ]
    }
   ],
   "source": [
    "# Criação de vetores:\n",
    "vetor = np.array([2, 3, 5, 7, 11])\n",
    "\n",
    "#ou\n",
    "\n",
    "# Shape mostra as dimensões do array:\n",
    "print(\"Vetor:\", vetor, \"\\nDimensão:\", vetor.shape)"
   ]
  },
  {
   "cell_type": "code",
   "execution_count": 21,
   "id": "0786f9b0",
   "metadata": {},
   "outputs": [
    {
     "name": "stdout",
     "output_type": "stream",
     "text": [
      "Vetor: [1.    0.1   0.01  0.001]    Dimensão: (4,)    Tipo: float64\n",
      "\n",
      "Vetor: [1 1 2 3 5 8]                Dimensão: (6,)    Tipo: uint8\n"
     ]
    }
   ],
   "source": [
    "# Também podemos especificar o tipo das variáveis dentro do array:\n",
    "vetor_float = np.array([1, 0.1, 0.01, 0.001])\n",
    "print(\"Vetor:\", vetor_float, \"   Dimensão:\", vetor_float.shape, \"   Tipo:\", vetor_float.dtype)\n",
    "\n",
    "print()\n",
    "\n",
    "vetor_int = np.array([1, 1, 2, 3, 5, 8], np.uint8)\n",
    "print(\"Vetor:\", vetor_int, \"               Dimensão:\", vetor_int.shape, \"   Tipo:\", vetor_int.dtype)"
   ]
  },
  {
   "cell_type": "markdown",
   "id": "5c12ed19",
   "metadata": {},
   "source": [
    "### Matrizes"
   ]
  },
  {
   "cell_type": "code",
   "execution_count": null,
   "id": "6e60cbae",
   "metadata": {},
   "outputs": [
    {
     "name": "stdout",
     "output_type": "stream",
     "text": [
      "Matriz:\n",
      " [[1 2 3]\n",
      " [4 5 6]\n",
      " [7 8 9]] \n",
      "\n",
      "Dimensão: (3, 3)\n",
      "\n",
      "Matriz_2:\n",
      " [[1 2 3]\n",
      " [4 5 6]\n",
      " [7 8 9]] \n",
      "\n",
      "Dimensão: (3, 3)\n"
     ]
    }
   ],
   "source": [
    "# Criação de matrizes:\n",
    "matriz = np.array([[1, 2, 3],\n",
    "                   [4, 5, 6],\n",
    "                   [7, 8, 9]])\n",
    "\n",
    "#ou\n",
    "\n",
    "matriz_2 = np.array([[1, 2, 3], [4, 5, 6], [7, 8, 9]])\n",
    "\n",
    "print(\"Matriz:\\n\", matriz, \"\\n\\nDimensão:\", matriz.shape)\n",
    "print()\n",
    "print(\"Matriz_2:\\n\", matriz_2, \"\\n\\nDimensão:\", matriz_2.shape)"
   ]
  },
  {
   "cell_type": "markdown",
   "id": "b2b59a05",
   "metadata": {},
   "source": [
    "### Funções e operações relevantes"
   ]
  },
  {
   "cell_type": "markdown",
   "id": "4990649d",
   "metadata": {},
   "source": [
    "#### Criação de arrays:"
   ]
  },
  {
   "cell_type": "code",
   "execution_count": 2,
   "id": "8737dc16",
   "metadata": {},
   "outputs": [
    {
     "name": "stdout",
     "output_type": "stream",
     "text": [
      "Array tamanho 2x4 preenchido com 1:\n",
      "[[1. 1. 1. 1.]\n",
      " [1. 1. 1. 1.]]\n",
      "\n",
      "Array tamanho 2x4x3 preenchido com 0:\n",
      "[[[0. 0. 0. 0.]\n",
      "  [0. 0. 0. 0.]]\n",
      "\n",
      " [[0. 0. 0. 0.]\n",
      "  [0. 0. 0. 0.]]\n",
      "\n",
      " [[0. 0. 0. 0.]\n",
      "  [0. 0. 0. 0.]]]\n",
      "\n",
      "Array 3x4 com valores aleatórios em [0, 10):\n",
      "[[7 2 7 0]\n",
      " [1 6 6 6]\n",
      " [9 7 6 8]]\n",
      "\n",
      "Array com valores em [0, 1) e passo 0.1:\n",
      "[0.  0.1 0.2 0.3 0.4 0.5 0.6 0.7 0.8 0.9]\n"
     ]
    }
   ],
   "source": [
    "import numpy as np\n",
    "print('Array tamanho 2x4 preenchido com 1:')\n",
    "print(np.ones((2, 4)))\n",
    "\n",
    "print('\\nArray tamanho 2x4x3 preenchido com 0:')\n",
    "print(np.zeros((3, 2, 4))) # Ordem invertida: [página, linha, coluna].\n",
    "\n",
    "print('\\nArray 3x4 com valores aleatórios em [0, 10):')\n",
    "print(np.random.randint(10, size=(3, 4)))\n",
    "\n",
    "print('\\nArray com valores em [0, 1) e passo 0.1:')\n",
    "print(np.arange(0, 1, 0.1))\n"
   ]
  },
  {
   "cell_type": "markdown",
   "id": "b6267283",
   "metadata": {},
   "source": [
    "#### Transposta e concatenação:"
   ]
  },
  {
   "cell_type": "code",
   "execution_count": null,
   "id": "78fd9da6",
   "metadata": {},
   "outputs": [
    {
     "name": "stdout",
     "output_type": "stream",
     "text": [
      "Matriz 2x3:\n",
      "[[0 1 2]\n",
      " [3 4 5]]\n",
      "\n",
      "Transposta:\n",
      "[[0 3]\n",
      " [1 4]\n",
      " [2 5]]\n",
      "\n",
      "Matriz 2x2:\n",
      "[[6 7]\n",
      " [8 9]]\n",
      "\n",
      "Matriz 3x3:\n",
      "[[ 6  7  8]\n",
      " [ 9 10 11]\n",
      " [12 13 14]]\n",
      "\n",
      "Matriz 2x3 e Matriz 3x3 - Concatenação no eixo das linhas (eixo 0):\n",
      "[[ 0  1  2]\n",
      " [ 3  4  5]\n",
      " [ 6  7  8]\n",
      " [ 9 10 11]\n",
      " [12 13 14]]\n",
      "\n",
      "Matriz 2x3 e Matriz 2x2 - Concatenação no eixo das colunas (eixo 1):\n",
      "[[0 1 2 6 7]\n",
      " [3 4 5 8 9]]\n"
     ]
    }
   ],
   "source": [
    "matriz_2x3 = np.array([[0, 1, 2], \n",
    "                       [3, 4, 5]])\n",
    "\n",
    "print('Matriz 2x3:')\n",
    "print(matriz_2x3)\n",
    "\n",
    "print('\\nTransposta:')\n",
    "print(matriz_2x3.T)\n",
    "\n",
    "matriz_2x2 = np.array([[6, 7], \n",
    "                       [8, 9]])\n",
    "print('\\nMatriz 2x2:')\n",
    "print(matriz_2x2)\n",
    "\n",
    "matriz_3x3 = np.array([[6, 7, 8], \n",
    "                       [9, 10, 11], \n",
    "                       [12, 13, 14]])\n",
    "print('\\nMatriz 3x3:')\n",
    "print(matriz_3x3)\n",
    "\n",
    "print('\\nMatriz 2x3 e Matriz 3x3 - Concatenação no eixo das linhas (eixo 0):')\n",
    "print(np.concatenate([matriz_2x3, matriz_3x3], axis=0))\n",
    "\n",
    "print('\\nMatriz 2x3 e Matriz 2x2 - Concatenação no eixo das colunas (eixo 1):')\n",
    "print(np.concatenate([matriz_2x3, matriz_2x2], axis=1))"
   ]
  },
  {
   "cell_type": "markdown",
   "id": "547c39a4",
   "metadata": {},
   "source": [
    "#### Indexação:\n",
    "\n",
    "A indexação funciona da mesma forma que listas normais do Python:"
   ]
  },
  {
   "cell_type": "code",
   "execution_count": 26,
   "id": "3f6b4ead",
   "metadata": {},
   "outputs": [
    {
     "name": "stdout",
     "output_type": "stream",
     "text": [
      "Linha de índice 0: [0 1 2]\n",
      "Linha 2 e coluna 1: 7\n",
      "Todas linhas e coluna 1: [ 1  4  7 10]\n",
      "Linhas [1, 3) e colunas >= 1:\n",
      " [[4 5]\n",
      " [7 8]]\n",
      "int32\n"
     ]
    }
   ],
   "source": [
    "# Elementos individuais:\n",
    "matriz_4x3 = np.array([[0,  1,  2],\n",
    "                       [3,  4,  5],\n",
    "                       [6,  7,  8],\n",
    "                       [9, 10, 11]])\n",
    "\n",
    "print(\"Linha de índice 0:\", matriz_4x3[0]) # linha de índice 0\n",
    "print(\"Linha 2 e coluna 1:\", matriz_4x3[2, 1]) # linha de índice 2 ([6, 7, 8]) e coluna de índice 1\n",
    "print(\"Todas linhas e coluna 1:\", matriz_4x3[:, 1]) # todas as linhas e coluna de índice 1\n",
    "print(\"Linhas [1, 3) e colunas >= 1:\\n\", matriz_4x3[1:3, 1:]) # linhas [1, 3), todas as colunas a partir de 1\n",
    "print(matriz_4x3.dtype)"
   ]
  },
  {
   "cell_type": "markdown",
   "id": "70a1d4bd",
   "metadata": {},
   "source": [
    "#### Operações:"
   ]
  },
  {
   "cell_type": "code",
   "execution_count": null,
   "id": "663ac415",
   "metadata": {},
   "outputs": [
    {
     "name": "stdout",
     "output_type": "stream",
     "text": [
      "Multiplicação com escalar:\n",
      "[[2. 2. 2.]\n",
      " [2. 2. 2.]]\n",
      "\n",
      "Soma com escalar:\n",
      "[3. 3. 3. 3. 3. 3.]\n",
      "\n",
      "Soma ponto-a-ponto:\n",
      "[[11. 11.]\n",
      " [11. 11.]]\n",
      "\n",
      "Multiplicação ponto-a-ponto:\n",
      "[10. 10. 10. 10.]\n",
      "\n",
      "Multiplicação matricial:\n",
      "[[19 22]\n",
      " [43 50]]\n",
      "\n",
      "Produto escalar:\n",
      "2\n"
     ]
    }
   ],
   "source": [
    "print('Multiplicação com escalar:')\n",
    "print(np.ones((2, 3)) * 2)\n",
    "\n",
    "print('\\nSoma com escalar:')\n",
    "print(np.zeros(6) + 3)\n",
    "\n",
    "print('\\nSoma ponto-a-ponto:')\n",
    "# Equivalente a [[1, 1], [1, 1]] + [[10, 10], [10, 10]]:\n",
    "print(np.ones((2, 2)) + 10 * np.ones((2, 2)))\n",
    "\n",
    "print('\\nMultiplicação ponto-a-ponto:')\n",
    "# Equivalente a [2, 2, 2, 2] * [5, 5, 5, 5]:\n",
    "print((2 * np.ones(4)) * (5 * np.ones(4)))\n",
    "\n",
    "print('\\nMultiplicação matricial:')\n",
    "print(\n",
    "np.matmul(\n",
    "        np.array([[1, 2],\n",
    "                  [3, 4]]),\n",
    "        np.array([[5, 6],\n",
    "                  [7, 8]])))\n",
    "\n",
    "print('\\nProduto escalar:')\n",
    "#Equivalente a 1 * (-1) + 2 * 0 + 3 * 1:\n",
    "print(np.dot(np.array([1, 2, 3]), np.array([-1, 0, 1])))"
   ]
  },
  {
   "cell_type": "code",
   "execution_count": null,
   "id": "ec1f79c9",
   "metadata": {},
   "outputs": [],
   "source": []
  }
 ],
 "metadata": {
  "kernelspec": {
   "display_name": "Python 3",
   "language": "python",
   "name": "python3"
  },
  "language_info": {
   "codemirror_mode": {
    "name": "ipython",
    "version": 3
   },
   "file_extension": ".py",
   "mimetype": "text/x-python",
   "name": "python",
   "nbconvert_exporter": "python",
   "pygments_lexer": "ipython3",
   "version": "3.12.0"
  }
 },
 "nbformat": 4,
 "nbformat_minor": 5
}
