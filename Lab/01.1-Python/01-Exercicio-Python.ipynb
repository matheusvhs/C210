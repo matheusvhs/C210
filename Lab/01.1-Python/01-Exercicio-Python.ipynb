{
 "cells": [
  {
   "cell_type": "markdown",
   "metadata": {},
   "source": [
    "### Calculadora Simples:\n",
    "Crie uma calculadora que possa realizar operações básicas como adição, subtração, multiplicação e divisão. Permita que o usuário escolha a operação desejada e forneça os números para realizar o cálculo."
   ]
  },
  {
   "cell_type": "code",
   "execution_count": null,
   "metadata": {},
   "outputs": [],
   "source": []
  },
  {
   "cell_type": "markdown",
   "metadata": {},
   "source": [
    "### Verificador de Números Primos:\n",
    "Escreva uma função que verifica se um número fornecido pelo usuário é primo ou não.\n"
   ]
  },
  {
   "cell_type": "code",
   "execution_count": null,
   "metadata": {},
   "outputs": [],
   "source": []
  },
  {
   "cell_type": "markdown",
   "metadata": {},
   "source": [
    "### Conversor de Temperatura:\n",
    "Crie um programa que converte uma temperatura de Celsius para Fahrenheit e vice-versa, com base na escolha do usuário.\n"
   ]
  },
  {
   "cell_type": "code",
   "execution_count": null,
   "metadata": {},
   "outputs": [],
   "source": []
  },
  {
   "cell_type": "markdown",
   "metadata": {},
   "source": [
    "### Contador de Palavras:\n",
    "Crie uma função que conta o número de palavras em uma frase fornecida pelo usuário.\n"
   ]
  },
  {
   "cell_type": "code",
   "execution_count": null,
   "metadata": {},
   "outputs": [],
   "source": []
  },
  {
   "cell_type": "markdown",
   "metadata": {},
   "source": [
    "### Tabuada:\n",
    "Escreva um programa que exibe a tabuada de um número fornecido pelo usuário."
   ]
  },
  {
   "cell_type": "code",
   "execution_count": null,
   "metadata": {},
   "outputs": [],
   "source": []
  },
  {
   "cell_type": "markdown",
   "metadata": {},
   "source": [
    "### Renomeador de Títulos:\n",
    "Escreva um programa que recebe uma array com nomes de colunas em uma tabela, arrume os nomes das colunas para que todas as palavras tenham a primeira letra maiúscula e substitua espaços por underlines(_).\n"
   ]
  },
  {
   "cell_type": "markdown",
   "metadata": {},
   "source": [
    "column_names = [\"account balance\", \"LoaN duration\", \"CREDIT History\", \n",
    "    \"loan_Purpose\", \"LOAN_Amount\", \"Savings\", \"Years_Employed\", \n",
    "    \"Installment_Rate\", \"Gender and Status\", \"OtheR Debtors_Guarantors\",\n",
    "    \"Year_of_Residence\", \"ProperTy\", \"AGe\", \"InstaLlment Plans\", \"HouSing\", \"ExistiNg_credits\", \"Job\", \"Dependents\", \n",
    "    \"Telephone\", \"Foreign\", \n",
    "    \"Credit_rating\"]"
   ]
  },
  {
   "cell_type": "code",
   "execution_count": null,
   "metadata": {},
   "outputs": [],
   "source": []
  }
 ],
 "metadata": {
  "kernelspec": {
   "display_name": "Python 3",
   "language": "python",
   "name": "python3"
  },
  "language_info": {
   "codemirror_mode": {
    "name": "ipython",
    "version": 3
   },
   "file_extension": ".py",
   "mimetype": "text/x-python",
   "name": "python",
   "nbconvert_exporter": "python",
   "pygments_lexer": "ipython3",
   "version": "3.12.0"
  }
 },
 "nbformat": 4,
 "nbformat_minor": 2
}
