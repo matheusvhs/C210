{
 "cells": [
  {
   "cell_type": "markdown",
   "metadata": {},
   "source": [
    "# O que é Machine Learning?\n",
    "https://www.ibm.com/br-pt/topics/machine-learning"
   ]
  },
  {
   "cell_type": "markdown",
   "metadata": {},
   "source": [
    "`Machine learning` é uma área da inteligência artificial (IA) e da ciência da computação que se concentra no uso de dados e algoritmos para imitar a maneira como os humanos aprendem, melhorando gradualmente sua precisão."
   ]
  },
  {
   "cell_type": "markdown",
   "metadata": {},
   "source": [
    "Nas últimas duas décadas, os avanços tecnológicos em armazenamento e capacidade de processamento possibilitou a criação de alguns produtos inovadores baseados em machine learning, como o mecanismo de recomendação da Netflix e os carros autônomos.\n",
    "\n",
    "Machine learning é um componente importante do crescente campo da ciência de dados. Por meio do uso de métodos estatísticos, os algoritmos são treinados para fazer classificações ou previsões, revelando os principais insights em projetos de mineração de dados. Esses insights subsequentemente conduzem a tomada de decisões em aplicativos e negócios, impactando de forma ideal as principais métricas de crescimento.\n",
    "\n",
    "Os algoritmos de machine learning são normalmente criados usando frameworks que aceleram o desenvolvimento da solução, como TensorFlow e PyTorch."
   ]
  },
  {
   "cell_type": "markdown",
   "metadata": {},
   "source": [
    "---------------------------------------------------------------------------------------------------------------------------------------------------------------"
   ]
  },
  {
   "cell_type": "markdown",
   "metadata": {},
   "source": [
    "# Machine Learning vs. Deep Learning vs. Redes Neurais"
   ]
  },
  {
   "cell_type": "markdown",
   "metadata": {},
   "source": [
    "`Machine learning`, `deep learning` e `redes neurais` são todos subcampos da inteligência artificial. No entanto, as redes neurais, na verdade, representam um subcampo do machine learning e o deep learning é um subcampo das redes neurais."
   ]
  },
  {
   "cell_type": "markdown",
   "metadata": {},
   "source": [
    "O deep learning e o machine learning diferem na forma como cada algoritmo aprende. \n",
    "\n",
    "O deep learning pode ingerir dados não estruturados em sua forma bruta (por exemplo, texto, imagens) e pode determinar automaticamente o conjunto de recursos que distinguem diferentes categorias de dados umas das outras. \n",
    "\n",
    "Isso elimina parte da intervenção humana necessária e permite o uso de conjuntos de dados maiores. Podemos pensar em deep learning como \"machine learning escalável\", segundo Lex Fridman na palestra do MIT (01:08:05) https://www.youtube.com/watch?v=O5xeyoRL95U."
   ]
  },
  {
   "cell_type": "markdown",
   "metadata": {},
   "source": [
    "---------------------------------------------------------------------------------------------------------------------------------------------------------------"
   ]
  },
  {
   "cell_type": "markdown",
   "metadata": {},
   "source": [
    "# Como o machine learning funciona\n",
    "https://ischoolonline.berkeley.edu/blog/what-is-machine-learning/"
   ]
  },
  {
   "cell_type": "markdown",
   "metadata": {},
   "source": [
    "O algoritmo típico de aprendizado de máquina supervisionado consiste em aproximadamente três componentes"
   ]
  },
  {
   "cell_type": "markdown",
   "metadata": {},
   "source": [
    "### 1- Um processo de decisão"
   ]
  },
  {
   "cell_type": "markdown",
   "metadata": {},
   "source": [
    "Uma receita de cálculos ou outras etapas que assumem os dados e “adivinhe” que tipo de padrão seu algoritmo está procurando encontrar."
   ]
  },
  {
   "cell_type": "markdown",
   "metadata": {},
   "source": [
    "### 2- Uma função de erro"
   ]
  },
  {
   "cell_type": "markdown",
   "metadata": {},
   "source": [
    "Um método de medir o quão bom era o palpite, comparando-o com exemplos conhecidos (quando eles estão disponíveis). O processo de decisão acertou? Se não, como você quantifica “quão ruim” foi a falta?"
   ]
  },
  {
   "cell_type": "markdown",
   "metadata": {},
   "source": [
    "### 3- Um processo de otimização de modelo"
   ]
  },
  {
   "cell_type": "markdown",
   "metadata": {},
   "source": [
    "Um método no qual o algoritmo olha para a falta e, em seguida, atualiza como o processo de decisão chega à decisão final, então, da próxima vez, a falta não será tão boa."
   ]
  },
  {
   "cell_type": "markdown",
   "metadata": {},
   "source": [
    "---------------------------------------------------------------------------------------------------------------------------------------------------------------"
   ]
  },
  {
   "cell_type": "markdown",
   "metadata": {},
   "source": [
    "# Tipos de Aprendizagem"
   ]
  },
  {
   "cell_type": "markdown",
   "metadata": {},
   "source": [
    "`Supervisionada`, `Não Supervisionada`, `Semi Supervisionada` e por `Reforço`"
   ]
  },
  {
   "cell_type": "markdown",
   "metadata": {},
   "source": [
    "### > `Supervisionada` VS. `Não Supervisionada`\n",
    "Exemplo da montagem."
   ]
  },
  {
   "cell_type": "markdown",
   "metadata": {},
   "source": [
    "https://blogs.nvidia.com/blog/supervised-unsupervised-learning/"
   ]
  },
  {
   "cell_type": "markdown",
   "metadata": {},
   "source": [
    "`Supervisionada`: O conjunto de dados que está sendo usado foi pré-rotulado e classificado pelos usuários (1) para permitir que o algoritmo veja o quão preciso é seu desempenho (4)."
   ]
  },
  {
   "cell_type": "markdown",
   "metadata": {},
   "source": [
    "![Texto Alternativo](img\\Supervised_machine_learning_in_a_nutshell.png)\n"
   ]
  },
  {
   "cell_type": "markdown",
   "metadata": {},
   "source": [
    "Existem duas áreas principais onde a aprendizagem supervisionada é útil: problemas de `classificação` e problemas de `regressão`."
   ]
  },
  {
   "cell_type": "markdown",
   "metadata": {},
   "source": [
    "A aprendizagem supervisionada é, portanto, mais adequada para problemas onde há um conjunto de pontos de referência disponíveis ou uma verdade com a qual treinar o algoritmo. Mas nem sempre estão disponíveis.\n"
   ]
  },
  {
   "cell_type": "markdown",
   "metadata": {},
   "source": [
    "---------------------------------------------------------------------------------------------------------------------------------------------"
   ]
  },
  {
   "cell_type": "markdown",
   "metadata": {},
   "source": [
    "`Não Supervisionada`: O conjunto de dados brutos que está sendo usado não é rotulado e um algoritmo identifica padrões e relacionamentos dentro dos dados sem a ajuda dos usuários."
   ]
  },
  {
   "cell_type": "markdown",
   "metadata": {},
   "source": [
    "O conjunto de dados de treinamento é uma coleção de exemplos sem um resultado desejado ou resposta correta. A rede neural então tenta encontrar automaticamente a estrutura nos dados, extraindo recursos úteis e analisando sua estrutura."
   ]
  },
  {
   "cell_type": "markdown",
   "metadata": {},
   "source": [
    "![Texto Alternativo](img\\hierarchical_features.png)\n"
   ]
  },
  {
   "cell_type": "markdown",
   "metadata": {},
   "source": [
    "Modelos de aprendizagem não supervisionados são usados para três tarefas principais: `Clustering`(agrupamento), `Associação` e `redução da dimensionalidade`."
   ]
  },
  {
   "cell_type": "markdown",
   "metadata": {},
   "source": [
    "---------------------------------------------------------------------------------------------------------------------------------------------------------------"
   ]
  },
  {
   "cell_type": "markdown",
   "metadata": {},
   "source": [
    "### > Aprendizagem `Semi Supervisionada`: \n",
    "\n",
    "O conjunto de dados contém dados estruturados e não estruturados, que orientam o algoritmo a caminho de chegar a conclusões independentes. A combinação dos dois tipos de dados em um conjunto de dados de treinamento permite que os algoritmos de aprendizado de máquina aprendam a rotular os dados não rotulados."
   ]
  },
  {
   "cell_type": "markdown",
   "metadata": {},
   "source": [
    "---------------------------------------------------------------------------------------------------------------------------------------------------------------"
   ]
  },
  {
   "cell_type": "markdown",
   "metadata": {},
   "source": [
    "### > Aprendizagem por `Reforço`:\n",
    "\n",
    "O conjunto de dados usa um sistema de “recompensas / punições”, oferecendo feedback ao algoritmo para aprender com suas próprias experiências por tentativa e erro."
   ]
  },
  {
   "cell_type": "markdown",
   "metadata": {},
   "source": [
    "---------------------------------------------------------------------------------------------------------------------------------------------------------------\n",
    "---------------------------------------------------------------------------------------------------------------------------------------------------------------"
   ]
  },
  {
   "cell_type": "markdown",
   "metadata": {},
   "source": [
    "# Resumo/Notas"
   ]
  },
  {
   "cell_type": "markdown",
   "metadata": {},
   "source": [
    "\"Machine Learning é a ciência (ou arte) de programar máquinas para aprenderem com dados\" \n",
    "                                                - Aurélien Géron em \"Hands-on Machine Learning with Scikit-Learn, Keras & Tensorflow\"\n",
    "\n",
    "### > Modelo\n",
    "Algoritmo que utiliza informações de entrada (e saída para alguns casos) para aprender\n",
    "##### m(X) = y\n",
    "\n",
    "### > Dados\n",
    "Dados utilizados pelos modelos para o aprendizado\n",
    "\n",
    "###### - Dados de treino:\n",
    "Dados fornecidos ao algoritmo para que possa aprender (entre 70% a 80% da base de dados)\n",
    "\n",
    "###### - Dados de teste:\n",
    "Dados para verificar se o modelo está tendo boa performance\n",
    "\n",
    "###### - Variáveis preditoras:\n",
    "Variáveis de entrada que serão utilizadas para prever a variável alvo (X)\n",
    "\n",
    "###### - Variável alvo:\n",
    "Variável predita através das variáveis preditoras (Y)\n",
    "\n",
    "### > Aprendizado supervisionado\n",
    "Tarefas de treinamento onde o modelo conhece qual a solução ideal para cada conjunto de dados\n",
    "###### --- Tarefas de regressão:\n",
    "Tarefas onde é esperado um valor numérico (normalmente contínuo) de um modelo. Ex: preço de um imóvel, cotação de uma moeda\n",
    "###### --- Tarefas de classificação:\n",
    "Tarefas onde o modelo de aprendizado de máquina tem como output uma classe. Ex: prever se uma pessoa possui ou não determinada doença\n",
    "\n",
    "### > Aprendizado não supervisionado\n",
    "Tarefas de treinamento onde o modelo não conhece a saída ideal para os dados fornecidos e tenta encontrar padrões entre os mesmos\n",
    "###### --- Tarefas de agrupamento (clustering):\n",
    "Agrupar objetos (dados) que possuam alguma semelhança em clusters\n",
    "\n",
    "### > Métodos de aprendizado\n",
    "###### --- fit()\n",
    "Treinar o modelo com dados de TREINO\n",
    "\n",
    "###### --- predict()\n",
    "Predizer valores de TESTE com o modelo\n",
    "\n",
    "### > Passo a passo\n",
    "#### >> Leitura da base de dados\n",
    "#### >> Análise exploratória\n",
    "#### >> Definição e treino do modelo\n",
    "#### >> Avaliação da performance do modelo"
   ]
  }
 ],
 "metadata": {
  "kernelspec": {
   "display_name": "Python 3",
   "language": "python",
   "name": "python3"
  },
  "language_info": {
   "codemirror_mode": {
    "name": "ipython",
    "version": 3
   },
   "file_extension": ".py",
   "mimetype": "text/x-python",
   "name": "python",
   "nbconvert_exporter": "python",
   "pygments_lexer": "ipython3",
   "version": "3.7.9"
  }
 },
 "nbformat": 4,
 "nbformat_minor": 4
}
